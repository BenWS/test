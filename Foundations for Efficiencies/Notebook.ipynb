{
 "metadata": {
  "language_info": {
   "codemirror_mode": {
    "name": "ipython",
    "version": 3
   },
   "file_extension": ".py",
   "mimetype": "text/x-python",
   "name": "python",
   "nbconvert_exporter": "python",
   "pygments_lexer": "ipython3",
   "version": "3.8.5"
  },
  "orig_nbformat": 4,
  "kernelspec": {
   "name": "python3",
   "display_name": "Python 3.8.5 64-bit ('base': conda)"
  },
  "interpreter": {
   "hash": "c64ecc72c06fd3268d71643271820c55602207de2ad84992d2bee16cc0166cb6"
  }
 },
 "nbformat": 4,
 "nbformat_minor": 2,
 "cells": [
  {
   "cell_type": "code",
   "execution_count": 15,
   "metadata": {},
   "outputs": [
    {
     "output_type": "execute_result",
     "data": {
      "text/plain": [
       "array([ 7,  8,  9, 10])"
      ]
     },
     "metadata": {},
     "execution_count": 15
    }
   ],
   "source": [
    "import numpy as np\n",
    "\n",
    "nums = np.arange(1,11).reshape(2,5)\n",
    "\n",
    "# # Print second row of nums\n",
    "print(nums[1,:])\n",
    "\n",
    "# # Print all elements of nums that are greater than six\n",
    "print(nums[nums > 6])\n",
    "\n",
    "# # Double every element of nums\n",
    "nums_dbl = nums * 2\n",
    "print(nums_dbl)\n",
    "\n",
    "# # Replace the third column of nums\n",
    "nums[:,2] = nums[:,2] + 1\n",
    "print(nums)"
   ]
  },
  {
   "cell_type": "code",
   "execution_count": 18,
   "metadata": {},
   "outputs": [
    {
     "output_type": "stream",
     "name": "stdout",
     "text": [
      "[10, 20, 30, 40, 50]\n"
     ]
    }
   ],
   "source": [
    "'''\r\n",
    "In this exercise, you will be throwing a party—a Festivus if you will!\r\n",
    "\r\n",
    "You have a list of guests (the names list). Each guest, for whatever reason, has decided to show up to the party in 10-minute increments. For example, Jerry shows up to Festivus 10 minutes into the party's start time, Kramer shows up 20 minutes into the party, and so on and so forth.\r\n",
    "\r\n",
    "We want to write a few simple lines of code, using the built-ins we have covered, to welcome each of your guests and let them know how many minutes late they are to your party. Note that numpy has been imported into your session as np and the names list has been loaded as well.\r\n",
    "\r\n",
    "Let's welcome your guests!\r\n",
    "\r\n",
    "'''\r\n",
    "\r\n",
    "'''\r\n",
    "Use range() to create a list of arrival times (10 through 50 incremented by 10). Create the list arrival_times by unpacking the range object.\r\n",
    "'''\r\n",
    "\r\n",
    "'''\r\n",
    "You realize your clock is three minutes fast. Convert the arrival_times list into a numpy array (called arrival_times_np) and use NumPy broadcasting to subtract three minutes from each arrival time.\r\n",
    "'''\r\n",
    "\r\n",
    "names = ['Jerry', 'Kramer', 'Elaine', 'George', 'Newman']\r\n",
    "\r\n",
    "# Create a list of arrival times\r\n",
    "arrival_times = [*range(10, 60, 10)]\r\n",
    "\r\n",
    "print(arrival_times)\r\n",
    "\r\n",
    "# Convert arrival_times to an array and update the times\r\n",
    "arrival_times_np = np.array(arrival_times)\r\n",
    "new_times = arrival_times_np - 3\r\n",
    "\r\n",
    "# Use list comprehension and enumerate to pair guests to new times\r\n",
    "guest_arrivals = [(names[i],time) for i,time in enumerate(new_times)]\r\n",
    "\r\n",
    "# Map the welcome_guest function to each (guest,time) pair\r\n",
    "welcome_map = map(welcome_guest, guest_arrivals)\r\n",
    "\r\n",
    "guest_welcomes = [*welcome_map]\r\n",
    "print(*guest_welcomes, sep='\\n')"
   ]
  }
 ]
}